{
 "cells": [
  {
   "cell_type": "code",
   "execution_count": 4,
   "metadata": {},
   "outputs": [],
   "source": [
    "import numpy as np\n",
    "import torch\n",
    "from torch import nn\n",
    "import torch.nn.functional as F\n",
    "\n",
    "class MyMultiHeadAttention(nn.Module):\n",
    "    def __init__(self, d_model:int, n_heads:int, d_k:int, d_v:int, enable_gpu:bool):\n",
    "        super(MyMultiHeadAttention, self).__init__()\n",
    "        self.d_model = d_model  # 300\n",
    "        self.n_heads = n_heads  # 20\n",
    "        self.d_k = d_k  # 20\n",
    "        self.d_v = d_v  # 20\n",
    "        self.enable_gpu = enable_gpu\n",
    "        self.W_Q = nn.Linear(d_model, d_k * n_heads)  # 300, 400\n",
    "        self.W_K = nn.Linear(d_model, d_k * n_heads)  # 300, 400\n",
    "        self.W_V = nn.Linear(d_model, d_v * n_heads)  # 300, 400\n",
    "\n",
    "        self._initialize_weights()\n",
    "\n",
    "    def _initialize_weights(self):\n",
    "        for m in self.modules():\n",
    "            if isinstance(m, nn.Linear):\n",
    "                nn.init.xavier_uniform_(m.weight, gain=1)\n",
    "\n",
    "    def forward(self, Q, K=None, V=None, mask=None):\n",
    "        #       Q, K, V: [bz, seq_len, 300] -> W -> [bz, seq_len, 400]-> q_s: [bz, 20, seq_len, 20]\n",
    "        if K is None:\n",
    "            K = Q\n",
    "        if V is None:\n",
    "            V = Q\n",
    "        batch_size, seq_len, _ = Q.shape\n",
    "\n",
    "        q_s = self.W_Q(Q).view(batch_size, -1, self.n_heads,\n",
    "                               self.d_k).transpose(1, 2)\n",
    "        k_s = self.W_K(K).view(batch_size, -1, self.n_heads,\n",
    "                               self.d_k).transpose(1, 2)\n",
    "        v_s = self.W_V(V).view(batch_size, -1, self.n_heads,\n",
    "                               self.d_v).transpose(1, 2)\n",
    "\n",
    "        if mask is not None:\n",
    "            mask = mask.unsqueeze(1).expand(batch_size, seq_len, seq_len) #  [bz, seq_len, seq_len]\n",
    "            mask = mask.unsqueeze(1).repeat(1, self.n_heads, 1, 1) # attn_mask : [bz, 20, seq_len, seq_len]\n",
    "\n",
    "        context = F.scaled_dot_product_attention(q_s, k_s, v_s, mask)  # [bz, 20, seq_len, 20]\n",
    "        context = context.transpose(1, 2).contiguous().view(\n",
    "            batch_size, -1, self.n_heads * self.d_v)  # [bz, seq_len, 400]\n",
    "        #         output = self.fc(context)\n",
    "        return context  #self.layer_norm(output + residual)"
   ]
  },
  {
   "cell_type": "code",
   "execution_count": 9,
   "metadata": {},
   "outputs": [],
   "source": [
    "mh1 = MyMultiHeadAttention(768, 12, 64, 64, True)\n",
    "input1 = torch.rand((20,40, 768))\n",
    "output1 = mh1(input1)"
   ]
  },
  {
   "cell_type": "code",
   "execution_count": 10,
   "metadata": {},
   "outputs": [
    {
     "data": {
      "text/plain": [
       "torch.Size([20, 40, 768])"
      ]
     },
     "execution_count": 10,
     "metadata": {},
     "output_type": "execute_result"
    }
   ],
   "source": [
    "output1.shape"
   ]
  },
  {
   "cell_type": "code",
   "execution_count": 13,
   "metadata": {},
   "outputs": [
    {
     "name": "stdout",
     "output_type": "stream",
     "text": [
      "torch.Size([20, 40, 768]) torch.Size([40, 20, 20])\n"
     ]
    }
   ],
   "source": [
    "mh2 = nn.MultiheadAttention(768, 12)\n",
    "output2 = mh2(input1, input1, input1)\n",
    "print(output2[0].shape, output2[1].shape)"
   ]
  }
 ],
 "metadata": {
  "kernelspec": {
   "display_name": "task8",
   "language": "python",
   "name": "python3"
  },
  "language_info": {
   "codemirror_mode": {
    "name": "ipython",
    "version": 3
   },
   "file_extension": ".py",
   "mimetype": "text/x-python",
   "name": "python",
   "nbconvert_exporter": "python",
   "pygments_lexer": "ipython3",
   "version": "3.9.0"
  },
  "orig_nbformat": 4
 },
 "nbformat": 4,
 "nbformat_minor": 2
}
